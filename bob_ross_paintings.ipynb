{
 "cells": [
  {
   "cell_type": "code",
   "execution_count": 1,
   "metadata": {},
   "outputs": [],
   "source": [
    "import pandas as pd\n",
    "import matplotlib.pyplot as plt\n",
    "\n",
    "%matplotlib inline\n"
   ]
  },
  {
   "cell_type": "code",
   "execution_count": 2,
   "metadata": {},
   "outputs": [],
   "source": [
    "df_colors = pd.read_csv('painting_colors.csv')\n",
    "df_elements = pd.read_csv('elements-by-episode.csv')"
   ]
  },
  {
   "cell_type": "code",
   "execution_count": 4,
   "metadata": {},
   "outputs": [
    {
     "name": "stdout",
     "output_type": "stream",
     "text": [
      "<class 'pandas.core.frame.DataFrame'>\n",
      "RangeIndex: 403 entries, 0 to 402\n",
      "Data columns (total 19 columns):\n",
      "episode             403 non-null object\n",
      "alizarin_crimson    403 non-null int64\n",
      "bright_red          403 non-null int64\n",
      "cadmium_yellow      403 non-null int64\n",
      "phthalo_green       403 non-null int64\n",
      "prussian_blue       403 non-null int64\n",
      "sap_green           403 non-null int64\n",
      "titanium_white      403 non-null int64\n",
      "van_dyke_brown      403 non-null int64\n",
      "black_gesso         403 non-null int64\n",
      "burnt_umber         403 non-null int64\n",
      "indian_yellow       403 non-null int64\n",
      "phthalo_blue        403 non-null int64\n",
      "yellow_ochre        403 non-null int64\n",
      "liquid_black        403 non-null int64\n",
      "midnight_black      403 non-null int64\n",
      "liquid_clear        403 non-null int64\n",
      "dark_sienna         403 non-null int64\n",
      "indian_red          403 non-null int64\n",
      "dtypes: int64(18), object(1)\n",
      "memory usage: 59.9+ KB\n"
     ]
    }
   ],
   "source": [
    "df_colors.info()"
   ]
  },
  {
   "cell_type": "code",
   "execution_count": 14,
   "metadata": {},
   "outputs": [
    {
     "data": {
      "text/plain": [
       "titanium_white      0.992556\n",
       "alizarin_crimson    0.942928\n",
       "van_dyke_brown      0.920596\n",
       "cadmium_yellow      0.858561\n",
       "yellow_ochre        0.811414\n",
       "phthalo_blue        0.801489\n",
       "bright_red          0.796526\n",
       "midnight_black      0.786600\n",
       "sap_green           0.759305\n",
       "indian_yellow       0.724566\n",
       "dark_sienna         0.719603\n",
       "prussian_blue       0.652605\n",
       "phthalo_green       0.287841\n",
       "black_gesso         0.250620\n",
       "burnt_umber         0.136476\n",
       "liquid_clear        0.126551\n",
       "liquid_black        0.034739\n",
       "indian_red          0.002481\n",
       "dtype: float64"
      ]
     },
     "execution_count": 14,
     "metadata": {},
     "output_type": "execute_result"
    }
   ],
   "source": [
    "df_colors.mean().sort_values(ascending=False)"
   ]
  },
  {
   "cell_type": "markdown",
   "metadata": {},
   "source": [
    "This gives us an idea as to the frequency of use for Bob's colors."
   ]
  },
  {
   "cell_type": "code",
   "execution_count": 16,
   "metadata": {
    "scrolled": true
   },
   "outputs": [
    {
     "data": {
      "text/plain": [
       "titanium_white      400\n",
       "alizarin_crimson    380\n",
       "van_dyke_brown      371\n",
       "cadmium_yellow      346\n",
       "yellow_ochre        327\n",
       "phthalo_blue        323\n",
       "bright_red          321\n",
       "midnight_black      317\n",
       "sap_green           306\n",
       "indian_yellow       292\n",
       "dark_sienna         290\n",
       "prussian_blue       263\n",
       "phthalo_green       116\n",
       "black_gesso         101\n",
       "burnt_umber          55\n",
       "liquid_clear         51\n",
       "liquid_black         14\n",
       "indian_red            1\n",
       "dtype: object"
      ]
     },
     "execution_count": 16,
     "metadata": {},
     "output_type": "execute_result"
    }
   ],
   "source": [
    "#sorted counts, but drop the episode col.\n",
    "df_colors.sum()[1:].sort_values(ascending=False)"
   ]
  },
  {
   "cell_type": "markdown",
   "metadata": {},
   "source": [
    "Here's the same frequency, but as a number of times each was used in his 403 paintings."
   ]
  },
  {
   "cell_type": "code",
   "execution_count": 17,
   "metadata": {},
   "outputs": [],
   "source": [
    "df_colors['total_colors'] = df_colors.sum(axis=1)"
   ]
  },
  {
   "cell_type": "code",
   "execution_count": 23,
   "metadata": {},
   "outputs": [
    {
     "data": {
      "text/plain": [
       "count    403.000000\n",
       "mean      10.605459\n",
       "std        2.378525\n",
       "min        1.000000\n",
       "25%        9.000000\n",
       "50%       11.000000\n",
       "75%       12.000000\n",
       "max       15.000000\n",
       "Name: total_colors, dtype: float64"
      ]
     },
     "execution_count": 23,
     "metadata": {},
     "output_type": "execute_result"
    }
   ],
   "source": [
    "df_colors.total_colors.describe()"
   ]
  },
  {
   "cell_type": "code",
   "execution_count": 24,
   "metadata": {},
   "outputs": [
    {
     "data": {
      "text/html": [
       "<div>\n",
       "<style scoped>\n",
       "    .dataframe tbody tr th:only-of-type {\n",
       "        vertical-align: middle;\n",
       "    }\n",
       "\n",
       "    .dataframe tbody tr th {\n",
       "        vertical-align: top;\n",
       "    }\n",
       "\n",
       "    .dataframe thead th {\n",
       "        text-align: right;\n",
       "    }\n",
       "</style>\n",
       "<table border=\"1\" class=\"dataframe\">\n",
       "  <thead>\n",
       "    <tr style=\"text-align: right;\">\n",
       "      <th></th>\n",
       "      <th>episode</th>\n",
       "      <th>alizarin_crimson</th>\n",
       "      <th>bright_red</th>\n",
       "      <th>cadmium_yellow</th>\n",
       "      <th>phthalo_green</th>\n",
       "      <th>prussian_blue</th>\n",
       "      <th>sap_green</th>\n",
       "      <th>titanium_white</th>\n",
       "      <th>van_dyke_brown</th>\n",
       "      <th>black_gesso</th>\n",
       "      <th>burnt_umber</th>\n",
       "      <th>indian_yellow</th>\n",
       "      <th>phthalo_blue</th>\n",
       "      <th>yellow_ochre</th>\n",
       "      <th>liquid_black</th>\n",
       "      <th>midnight_black</th>\n",
       "      <th>liquid_clear</th>\n",
       "      <th>dark_sienna</th>\n",
       "      <th>indian_red</th>\n",
       "      <th>total_colors</th>\n",
       "    </tr>\n",
       "  </thead>\n",
       "  <tbody>\n",
       "    <tr>\n",
       "      <th>214</th>\n",
       "      <td>S17E07</td>\n",
       "      <td>1</td>\n",
       "      <td>1</td>\n",
       "      <td>1</td>\n",
       "      <td>1</td>\n",
       "      <td>1</td>\n",
       "      <td>1</td>\n",
       "      <td>1</td>\n",
       "      <td>1</td>\n",
       "      <td>1</td>\n",
       "      <td>0</td>\n",
       "      <td>1</td>\n",
       "      <td>1</td>\n",
       "      <td>1</td>\n",
       "      <td>0</td>\n",
       "      <td>1</td>\n",
       "      <td>1</td>\n",
       "      <td>1</td>\n",
       "      <td>0</td>\n",
       "      <td>15</td>\n",
       "    </tr>\n",
       "    <tr>\n",
       "      <th>293</th>\n",
       "      <td>S23E08</td>\n",
       "      <td>1</td>\n",
       "      <td>1</td>\n",
       "      <td>1</td>\n",
       "      <td>1</td>\n",
       "      <td>1</td>\n",
       "      <td>1</td>\n",
       "      <td>1</td>\n",
       "      <td>1</td>\n",
       "      <td>1</td>\n",
       "      <td>0</td>\n",
       "      <td>1</td>\n",
       "      <td>1</td>\n",
       "      <td>1</td>\n",
       "      <td>0</td>\n",
       "      <td>1</td>\n",
       "      <td>1</td>\n",
       "      <td>1</td>\n",
       "      <td>0</td>\n",
       "      <td>15</td>\n",
       "    </tr>\n",
       "    <tr>\n",
       "      <th>306</th>\n",
       "      <td>S24E08</td>\n",
       "      <td>1</td>\n",
       "      <td>1</td>\n",
       "      <td>1</td>\n",
       "      <td>1</td>\n",
       "      <td>1</td>\n",
       "      <td>1</td>\n",
       "      <td>1</td>\n",
       "      <td>1</td>\n",
       "      <td>1</td>\n",
       "      <td>0</td>\n",
       "      <td>1</td>\n",
       "      <td>1</td>\n",
       "      <td>1</td>\n",
       "      <td>0</td>\n",
       "      <td>1</td>\n",
       "      <td>1</td>\n",
       "      <td>1</td>\n",
       "      <td>0</td>\n",
       "      <td>15</td>\n",
       "    </tr>\n",
       "    <tr>\n",
       "      <th>328</th>\n",
       "      <td>S26E04</td>\n",
       "      <td>1</td>\n",
       "      <td>1</td>\n",
       "      <td>1</td>\n",
       "      <td>1</td>\n",
       "      <td>1</td>\n",
       "      <td>1</td>\n",
       "      <td>1</td>\n",
       "      <td>1</td>\n",
       "      <td>1</td>\n",
       "      <td>0</td>\n",
       "      <td>1</td>\n",
       "      <td>1</td>\n",
       "      <td>1</td>\n",
       "      <td>0</td>\n",
       "      <td>1</td>\n",
       "      <td>1</td>\n",
       "      <td>1</td>\n",
       "      <td>0</td>\n",
       "      <td>15</td>\n",
       "    </tr>\n",
       "    <tr>\n",
       "      <th>339</th>\n",
       "      <td>S27E02</td>\n",
       "      <td>1</td>\n",
       "      <td>1</td>\n",
       "      <td>1</td>\n",
       "      <td>1</td>\n",
       "      <td>1</td>\n",
       "      <td>1</td>\n",
       "      <td>1</td>\n",
       "      <td>1</td>\n",
       "      <td>0</td>\n",
       "      <td>0</td>\n",
       "      <td>1</td>\n",
       "      <td>1</td>\n",
       "      <td>1</td>\n",
       "      <td>1</td>\n",
       "      <td>1</td>\n",
       "      <td>1</td>\n",
       "      <td>1</td>\n",
       "      <td>0</td>\n",
       "      <td>15</td>\n",
       "    </tr>\n",
       "    <tr>\n",
       "      <th>341</th>\n",
       "      <td>S27E03</td>\n",
       "      <td>1</td>\n",
       "      <td>1</td>\n",
       "      <td>1</td>\n",
       "      <td>1</td>\n",
       "      <td>1</td>\n",
       "      <td>1</td>\n",
       "      <td>1</td>\n",
       "      <td>1</td>\n",
       "      <td>0</td>\n",
       "      <td>0</td>\n",
       "      <td>1</td>\n",
       "      <td>1</td>\n",
       "      <td>1</td>\n",
       "      <td>1</td>\n",
       "      <td>1</td>\n",
       "      <td>1</td>\n",
       "      <td>1</td>\n",
       "      <td>0</td>\n",
       "      <td>15</td>\n",
       "    </tr>\n",
       "  </tbody>\n",
       "</table>\n",
       "</div>"
      ],
      "text/plain": [
       "    episode  alizarin_crimson  bright_red  cadmium_yellow  phthalo_green  \\\n",
       "214  S17E07                 1           1               1              1   \n",
       "293  S23E08                 1           1               1              1   \n",
       "306  S24E08                 1           1               1              1   \n",
       "328  S26E04                 1           1               1              1   \n",
       "339  S27E02                 1           1               1              1   \n",
       "341  S27E03                 1           1               1              1   \n",
       "\n",
       "     prussian_blue  sap_green  titanium_white  van_dyke_brown  black_gesso  \\\n",
       "214              1          1               1               1            1   \n",
       "293              1          1               1               1            1   \n",
       "306              1          1               1               1            1   \n",
       "328              1          1               1               1            1   \n",
       "339              1          1               1               1            0   \n",
       "341              1          1               1               1            0   \n",
       "\n",
       "     burnt_umber  indian_yellow  phthalo_blue  yellow_ochre  liquid_black  \\\n",
       "214            0              1             1             1             0   \n",
       "293            0              1             1             1             0   \n",
       "306            0              1             1             1             0   \n",
       "328            0              1             1             1             0   \n",
       "339            0              1             1             1             1   \n",
       "341            0              1             1             1             1   \n",
       "\n",
       "     midnight_black  liquid_clear  dark_sienna  indian_red  total_colors  \n",
       "214               1             1            1           0            15  \n",
       "293               1             1            1           0            15  \n",
       "306               1             1            1           0            15  \n",
       "328               1             1            1           0            15  \n",
       "339               1             1            1           0            15  \n",
       "341               1             1            1           0            15  "
      ]
     },
     "execution_count": 24,
     "metadata": {},
     "output_type": "execute_result"
    }
   ],
   "source": [
    "df_colors[df_colors.total_colors == 15]"
   ]
  },
  {
   "cell_type": "code",
   "execution_count": 33,
   "metadata": {},
   "outputs": [
    {
     "data": {
      "text/html": [
       "<div>\n",
       "<style scoped>\n",
       "    .dataframe tbody tr th:only-of-type {\n",
       "        vertical-align: middle;\n",
       "    }\n",
       "\n",
       "    .dataframe tbody tr th {\n",
       "        vertical-align: top;\n",
       "    }\n",
       "\n",
       "    .dataframe thead th {\n",
       "        text-align: right;\n",
       "    }\n",
       "</style>\n",
       "<table border=\"1\" class=\"dataframe\">\n",
       "  <thead>\n",
       "    <tr style=\"text-align: right;\">\n",
       "      <th></th>\n",
       "      <th>episode</th>\n",
       "      <th>alizarin_crimson</th>\n",
       "      <th>bright_red</th>\n",
       "      <th>cadmium_yellow</th>\n",
       "      <th>phthalo_green</th>\n",
       "      <th>prussian_blue</th>\n",
       "      <th>sap_green</th>\n",
       "      <th>titanium_white</th>\n",
       "      <th>van_dyke_brown</th>\n",
       "      <th>black_gesso</th>\n",
       "      <th>burnt_umber</th>\n",
       "      <th>indian_yellow</th>\n",
       "      <th>phthalo_blue</th>\n",
       "      <th>yellow_ochre</th>\n",
       "      <th>liquid_black</th>\n",
       "      <th>midnight_black</th>\n",
       "      <th>liquid_clear</th>\n",
       "      <th>dark_sienna</th>\n",
       "      <th>indian_red</th>\n",
       "      <th>total_colors</th>\n",
       "    </tr>\n",
       "  </thead>\n",
       "  <tbody>\n",
       "    <tr>\n",
       "      <th>200</th>\n",
       "      <td>S16E06</td>\n",
       "      <td>0</td>\n",
       "      <td>0</td>\n",
       "      <td>0</td>\n",
       "      <td>0</td>\n",
       "      <td>0</td>\n",
       "      <td>0</td>\n",
       "      <td>0</td>\n",
       "      <td>1</td>\n",
       "      <td>0</td>\n",
       "      <td>0</td>\n",
       "      <td>0</td>\n",
       "      <td>0</td>\n",
       "      <td>0</td>\n",
       "      <td>0</td>\n",
       "      <td>0</td>\n",
       "      <td>0</td>\n",
       "      <td>0</td>\n",
       "      <td>0</td>\n",
       "      <td>1</td>\n",
       "    </tr>\n",
       "  </tbody>\n",
       "</table>\n",
       "</div>"
      ],
      "text/plain": [
       "    episode  alizarin_crimson  bright_red  cadmium_yellow  phthalo_green  \\\n",
       "200  S16E06                 0           0               0              0   \n",
       "\n",
       "     prussian_blue  sap_green  titanium_white  van_dyke_brown  black_gesso  \\\n",
       "200              0          0               0               1            0   \n",
       "\n",
       "     burnt_umber  indian_yellow  phthalo_blue  yellow_ochre  liquid_black  \\\n",
       "200            0              0             0             0             0   \n",
       "\n",
       "     midnight_black  liquid_clear  dark_sienna  indian_red  total_colors  \n",
       "200               0             0            0           0             1  "
      ]
     },
     "execution_count": 33,
     "metadata": {},
     "output_type": "execute_result"
    }
   ],
   "source": [
    "df_colors[df_colors.total_colors == 1]"
   ]
  },
  {
   "cell_type": "code",
   "execution_count": 34,
   "metadata": {},
   "outputs": [
    {
     "data": {
      "text/plain": [
       "episode             254\n",
       "alizarin_crimson    254\n",
       "bright_red          254\n",
       "cadmium_yellow      254\n",
       "phthalo_green       254\n",
       "prussian_blue       254\n",
       "sap_green           254\n",
       "titanium_white      254\n",
       "van_dyke_brown      254\n",
       "black_gesso         254\n",
       "burnt_umber         254\n",
       "indian_yellow       254\n",
       "phthalo_blue        254\n",
       "yellow_ochre        254\n",
       "liquid_black        254\n",
       "midnight_black      254\n",
       "liquid_clear        254\n",
       "dark_sienna         254\n",
       "indian_red          254\n",
       "total_colors        254\n",
       "dtype: int64"
      ]
     },
     "execution_count": 34,
     "metadata": {},
     "output_type": "execute_result"
    }
   ],
   "source": [
    "df_colors[df_colors.total_colors >= 10.6].count()"
   ]
  },
  {
   "cell_type": "code",
   "execution_count": 43,
   "metadata": {},
   "outputs": [
    {
     "data": {
      "text/plain": [
       "0    12\n",
       "dtype: int64"
      ]
     },
     "execution_count": 43,
     "metadata": {},
     "output_type": "execute_result"
    }
   ],
   "source": [
    "df_colors.total_colors.mode()"
   ]
  },
  {
   "cell_type": "code",
   "execution_count": 58,
   "metadata": {},
   "outputs": [
    {
     "data": {
      "text/plain": [
       "1       1\n",
       "3       4\n",
       "4       4\n",
       "5       5\n",
       "6      11\n",
       "7      25\n",
       "8      26\n",
       "9      29\n",
       "10     44\n",
       "11     78\n",
       "12    100\n",
       "13     58\n",
       "14     12\n",
       "15      6\n",
       "Name: total_colors, dtype: int64"
      ]
     },
     "execution_count": 58,
     "metadata": {},
     "output_type": "execute_result"
    }
   ],
   "source": [
    "df_colors.total_colors.value_counts().sort_index()"
   ]
  },
  {
   "cell_type": "code",
   "execution_count": 57,
   "metadata": {
    "scrolled": true
   },
   "outputs": [
    {
     "data": {
      "text/plain": [
       "<matplotlib.axes._subplots.AxesSubplot at 0x1c75f638898>"
      ]
     },
     "execution_count": 57,
     "metadata": {},
     "output_type": "execute_result"
    },
    {
     "data": {
      "image/png": "[encoded data removed]",
      "text/plain": [
       "<Figure size 432x288 with 1 Axes>"
      ]
     },
     "metadata": {},
     "output_type": "display_data"
    }
   ],
   "source": [
    "df_colors.total_colors.hist(bins=15)"
   ]
  },
  {
   "cell_type": "markdown",
   "metadata": {},
   "source": [
    "The average painting used about 10.6 colors. He did at least 6 paintings with 15 different colors, and one with only 1 color. We need to keep in mind that he did have guest painters on from time to time. The painting with only 1 color is an example of this. Also, the paintings with 15 colors are mainly from later season/episodes. He apparently decided to branch out over time to new colors. 254 of his paintings used more than the average (10.6). By far, the most common number of colors used was 12."
   ]
  },
  {
   "cell_type": "code",
   "execution_count": null,
   "metadata": {},
   "outputs": [],
   "source": []
  },
  {
   "cell_type": "code",
   "execution_count": null,
   "metadata": {},
   "outputs": [],
   "source": []
  },
  {
   "cell_type": "code",
   "execution_count": null,
   "metadata": {},
   "outputs": [],
   "source": []
  }
 ],
 "metadata": {
  "kernelspec": {
   "display_name": "Python 3",
   "language": "python",
   "name": "python3"
  },
  "language_info": {
   "codemirror_mode": {
    "name": "ipython",
    "version": 3
   },
   "file_extension": ".py",
   "mimetype": "text/x-python",
   "name": "python",
   "nbconvert_exporter": "python",
   "pygments_lexer": "ipython3",
   "version": "3.6.6"
  }
 },
 "nbformat": 4,
 "nbformat_minor": 2
}
